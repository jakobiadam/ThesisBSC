{
 "cells": [
  {
   "cell_type": "code",
   "execution_count": 1,
   "metadata": {},
   "outputs": [],
   "source": [
    "import numpy as np\n",
    "import pandas as pd\n",
    "import time\n",
    "import matplotlib.pyplot as plt"
   ]
  },
  {
   "cell_type": "code",
   "execution_count": 2,
   "metadata": {},
   "outputs": [],
   "source": [
    "import random\n",
    "arr = np.ones((1000,80))\n",
    "for i in range(1000):\n",
    "    for j in range(80):\n",
    "        arr[i,j] = random.uniform(0,20)"
   ]
  },
  {
   "cell_type": "code",
   "execution_count": 3,
   "metadata": {},
   "outputs": [
    {
     "name": "stdout",
     "output_type": "stream",
     "text": [
      "Írási idő: 0.7959332466125488 s\n",
      "Olvasási idő 0.38623833656311035 s\n",
      "(64, 1000, 80)\n"
     ]
    }
   ],
   "source": [
    "#BINARY TO-FILE NUMPY\n",
    "start = time.time()\n",
    "for i in range(64):\n",
    "    arr.tofile(f\"./binary/testfile{i}.npy\")\n",
    "end = time.time()\n",
    "print(f\"Írási idő: {end-start} s\")\n",
    "\n",
    "start = time.time()\n",
    "datas = np.reshape(np.fromfile(\"./binary/testfile0.npy\"), (1,1000,80))\n",
    "for i in range(1,64):\n",
    "    datas = np.concatenate((datas,np.reshape(np.fromfile(f\"./binary/testfile{i}.npy\"), (1,1000,80))),axis=0)\n",
    "end = time.time()\n",
    "print(f\"Olvasási idő {end-start} s\")\n",
    "print(datas.shape)"
   ]
  },
  {
   "cell_type": "code",
   "execution_count": 4,
   "metadata": {},
   "outputs": [
    {
     "name": "stdout",
     "output_type": "stream",
     "text": [
      "Írási idő 1.0632801055908203 s\n",
      "Olvasási idő 0.2827107906341553 s\n",
      "(64, 1000, 80)\n"
     ]
    }
   ],
   "source": [
    "#BINARY SAVE NUMPY\n",
    "\n",
    "#numpy save (binary)\n",
    "start = time.time()\n",
    "for i in range(64):\n",
    "    np.save(f\"./numpy_save_binary/testfile{i}.npy\",arr)\n",
    "end = time.time()\n",
    "print(f\"Írási idő {end-start} s\")\n",
    "\n",
    "start = time.time()\n",
    "#numpy load (binary)\n",
    "datas = np.array([np.load(f\"./numpy_save_binary/testfile{i}.npy\")])\n",
    "for i in range(1,64):\n",
    "    datas = np.concatenate((datas,np.reshape(np.load(f\"./numpy_save_binary/testfile{i}.npy\"),(1,1000,80))),axis=0)\n",
    "end = time.time()\n",
    "print(f\"Olvasási idő {end-start} s\")\n",
    "print(datas.shape)"
   ]
  },
  {
   "cell_type": "code",
   "execution_count": 5,
   "metadata": {},
   "outputs": [
    {
     "name": "stdout",
     "output_type": "stream",
     "text": [
      "Írási idő: 0.8665785789489746 s\n",
      "Olvasási idő 0.31760287284851074 s\n",
      "(64, 1000, 80)\n"
     ]
    }
   ],
   "source": [
    "import h5py\n",
    "\n",
    "start = time.time()\n",
    "for i in range(64):\n",
    "    f = h5py.File(f\"./h5py/testfile{i}.h5\",'w')\n",
    "    f.create_dataset('S',data=arr)\n",
    "    f.close()\n",
    "end = time.time()\n",
    "print(f\"Írási idő: {end-start} s\")\n",
    "\n",
    "start = time.time()\n",
    "f = h5py.File(f\"./h5py/testfile0.h5\",'r')\n",
    "datas = np.resize(np.array(f[list(f.keys())[0]]),(1,1000,80))\n",
    "f.close()\n",
    "for i in range(1,64):\n",
    "    f = h5py.File(f\"./h5py/testfile{i}.h5\",'r')\n",
    "    datas = np.concatenate((datas,np.resize(np.array(f[list(f.keys())[0]]),(1,1000,80))),axis=0)\n",
    "    f.close()\n",
    "end = time.time()\n",
    "print(f\"Olvasási idő {end-start} s\")\n",
    "print(datas.shape)"
   ]
  },
  {
   "cell_type": "code",
   "execution_count": 6,
   "metadata": {},
   "outputs": [
    {
     "name": "stdout",
     "output_type": "stream",
     "text": [
      "Írási idő 0.7553014755249023 s\n",
      "Olvasási idő 0.6385371685028076 s\n",
      "(64, 1000, 80)\n"
     ]
    }
   ],
   "source": [
    "#pandas read_hdf and to_hdf\n",
    "\n",
    "start = time.time()\n",
    "for i in range(64):\n",
    "    pd.DataFrame(arr).to_hdf(f\"./pandas_hdf/testfile{i}.csv\",key='S')\n",
    "end = time.time()\n",
    "print(f\"Írási idő {end-start} s\")\n",
    "\n",
    "\n",
    "start = time.time()\n",
    "datas = np.reshape(pd.read_hdf(f\"./pandas_hdf/testfile0.csv\",key='S').to_numpy(),(1,1000,80))\n",
    "for i in range(1,64):\n",
    "    datas = np.concatenate((datas,np.reshape(pd.read_hdf(f\"./pandas_hdf/testfile{i}.csv\",key='S').to_numpy(),(1,1000,80))),axis=0)\n",
    "\n",
    "end = time.time()\n",
    "print(f\"Olvasási idő {end-start} s\")\n",
    "print(datas.shape)"
   ]
  },
  {
   "cell_type": "code",
   "execution_count": 7,
   "metadata": {},
   "outputs": [
    {
     "name": "stdout",
     "output_type": "stream",
     "text": [
      "Írási idő: 7.953361988067627 s\n",
      "Olvasási idő 1.5994856357574463 s\n",
      "(64, 1000, 80)\n",
      "64 X pd.read_csv() futási idő: 1.346686601638794 s\n"
     ]
    }
   ],
   "source": [
    "#pandas csv file generate\n",
    "\n",
    "start = time.time()\n",
    "for i in range(64):\n",
    "    d = pd.DataFrame(data=arr)\n",
    "    d.to_csv(f\"./pandas_csv/testfile{i}.csv\",index = False)\n",
    "\n",
    "end = time.time()\n",
    "print(f\"Írási idő: {end-start} s\")\n",
    "\n",
    "start = time.time()\n",
    "datas = np.reshape(pd.read_csv(f\"./pandas_csv/testfile0.csv\").to_numpy(),(1,1000,80))\n",
    "for i in range(1,64):\n",
    "    datas = np.concatenate((datas,np.reshape(pd.read_csv(f\"./pandas_csv/testfile{i}.csv\").to_numpy(),(1,1000,80))),axis=0)\n",
    "\n",
    "end = time.time()\n",
    "print(f\"Olvasási idő {end-start} s\")\n",
    "print(datas.shape)\n",
    "\n",
    "#Csak különállóan a pd.read_csv()\n",
    "start = time.time()\n",
    "for i in range(64):\n",
    "    data = pd.read_csv(f\"./pandas_csv/testfile{i}.csv\")\n",
    "end = time.time()\n",
    "print(f\"64 X pd.read_csv() futási idő: {end-start} s\")"
   ]
  },
  {
   "cell_type": "code",
   "execution_count": 8,
   "metadata": {},
   "outputs": [
    {
     "name": "stdout",
     "output_type": "stream",
     "text": [
      "Írási idő: 4.64313530921936 s\n",
      "Olvasási idő 5.6869823932647705 s\n",
      "(64, 1000, 80)\n"
     ]
    }
   ],
   "source": [
    "#numpy csv file generate\n",
    "start = time.time()\n",
    "for i in range(64):\n",
    "    np.savetxt(f\"./numpy_csv/testfile{i}.csv\",arr)\n",
    "end = time.time()\n",
    "print(f\"Írási idő: {end-start} s\")\n",
    "\n",
    "\n",
    "start = time.time()\n",
    "datas = np.reshape(np.loadtxt(f\"./numpy_csv/testfile0.csv\", delimiter=' ',dtype=float),(1,1000,80))\n",
    "for i in range(1,64):\n",
    "    datas = np.concatenate((datas,np.reshape(np.loadtxt(f\"./numpy_csv/testfile{i}.csv\", delimiter=' ',dtype=float),(1,1000,80))),axis=0)\n",
    "end = time.time()\n",
    "print(f\"Olvasási idő {end-start} s\")\n",
    "print(datas.shape)"
   ]
  }
 ],
 "metadata": {
  "kernelspec": {
   "display_name": "Python 3",
   "language": "python",
   "name": "python3"
  },
  "language_info": {
   "codemirror_mode": {
    "name": "ipython",
    "version": 3
   },
   "file_extension": ".py",
   "mimetype": "text/x-python",
   "name": "python",
   "nbconvert_exporter": "python",
   "pygments_lexer": "ipython3",
   "version": "3.7.9"
  }
 },
 "nbformat": 4,
 "nbformat_minor": 4
}
